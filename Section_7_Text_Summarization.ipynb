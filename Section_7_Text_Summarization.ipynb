{
 "cells": [
  {
   "cell_type": "markdown",
   "id": "d8eebfff-1d14-42eb-ad24-a3a91900b674",
   "metadata": {},
   "source": [
    "Text Summarization Example"
   ]
  },
  {
   "cell_type": "code",
   "execution_count": 1,
   "id": "95bd1faf-a23a-4425-bdb3-9f0d74dae881",
   "metadata": {},
   "outputs": [
    {
     "ename": "ModuleNotFoundError",
     "evalue": "No module named 'transformers'",
     "output_type": "error",
     "traceback": [
      "\u001b[0;31m---------------------------------------------------------------------------\u001b[0m",
      "\u001b[0;31mModuleNotFoundError\u001b[0m                       Traceback (most recent call last)",
      "Cell \u001b[0;32mIn[1], line 1\u001b[0m\n\u001b[0;32m----> 1\u001b[0m \u001b[38;5;28;01mfrom\u001b[39;00m \u001b[38;5;21;01mtransformers\u001b[39;00m \u001b[38;5;28;01mimport\u001b[39;00m pipeline\n\u001b[1;32m      3\u001b[0m \u001b[38;5;66;03m# Load the summarization pipeline\u001b[39;00m\n\u001b[1;32m      4\u001b[0m summarization_pipeline \u001b[38;5;241m=\u001b[39m pipeline(\u001b[38;5;124m\"\u001b[39m\u001b[38;5;124msummarization\u001b[39m\u001b[38;5;124m\"\u001b[39m)\n",
      "\u001b[0;31mModuleNotFoundError\u001b[0m: No module named 'transformers'"
     ]
    }
   ],
   "source": [
    "from transformers import pipeline\n",
    "\n",
    "# Load the summarization pipeline\n",
    "summarization_pipeline = pipeline(\"summarization\")\n",
    "\n",
    "# Sample article for summarization\n",
    "article = \"\"\"The findings underscored the reversed dynamic that the president must deal with as he seeks a second term. Four years ago, he was able to assail Trump’s time in office from his position as a challenger. Biden vowed the country would “overcome this season of darkness” and choose “hope over fear, facts over fiction, fairness over privilege.” Now, however, Trump is able to exploit Biden’s travails in office as he seeks to make the election a classic referendum on the incumbent despite his own liabilities. The former president paints a picture of a failing nation, adrift in a world spinning into disorder, almost every day during breaks from his trial in Manhattan.\n",
    "\"\"\"\n",
    "\n",
    "# Perform summarization\n",
    "summary = summarization_pipeline(article, max_length=250, min_length=30, do_sample=False)\n",
    "\n",
    "# Print the summary\n",
    "print(summary[0]['summary_text'])"
   ]
  },
  {
   "cell_type": "code",
   "execution_count": null,
   "id": "d7d849b7-6734-4f55-9019-32b2d8d2f573",
   "metadata": {},
   "outputs": [],
   "source": []
  }
 ],
 "metadata": {
  "kernelspec": {
   "display_name": "Python 3 (ipykernel)",
   "language": "python",
   "name": "python3"
  },
  "language_info": {
   "codemirror_mode": {
    "name": "ipython",
    "version": 3
   },
   "file_extension": ".py",
   "mimetype": "text/x-python",
   "name": "python",
   "nbconvert_exporter": "python",
   "pygments_lexer": "ipython3",
   "version": "3.12.6"
  }
 },
 "nbformat": 4,
 "nbformat_minor": 5
}
